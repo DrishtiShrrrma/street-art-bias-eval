{
  "nbformat": 4,
  "nbformat_minor": 0,
  "metadata": {
    "colab": {
      "provenance": [],
      "gpuType": "T4"
    },
    "kernelspec": {
      "name": "python3",
      "display_name": "Python 3"
    },
    "language_info": {
      "name": "python"
    },
    "accelerator": "GPU",
    "widgets": {
      "application/vnd.jupyter.widget-state+json": {
        "01a64ec9b1ca442eb7faf258066c657c": {
          "model_module": "@jupyter-widgets/controls",
          "model_name": "VBoxModel",
          "model_module_version": "1.5.0",
          "state": {
            "_dom_classes": [],
            "_model_module": "@jupyter-widgets/controls",
            "_model_module_version": "1.5.0",
            "_model_name": "VBoxModel",
            "_view_count": null,
            "_view_module": "@jupyter-widgets/controls",
            "_view_module_version": "1.5.0",
            "_view_name": "VBoxView",
            "box_style": "",
            "children": [
              "IPY_MODEL_a6336d13378348afb8f08a46e6248743",
              "IPY_MODEL_5eacde06c89547e98554459e62313225",
              "IPY_MODEL_48a8e9268cef4c968408d6e51f506f77",
              "IPY_MODEL_2a1b4c737e11438ea266ec912fde6e9c",
              "IPY_MODEL_b6c371001374479798339a53f3934947"
            ],
            "layout": "IPY_MODEL_6d90d883ac1c44489536d28de01d2ddd"
          }
        },
        "a6336d13378348afb8f08a46e6248743": {
          "model_module": "@jupyter-widgets/controls",
          "model_name": "HTMLModel",
          "model_module_version": "1.5.0",
          "state": {
            "_dom_classes": [],
            "_model_module": "@jupyter-widgets/controls",
            "_model_module_version": "1.5.0",
            "_model_name": "HTMLModel",
            "_view_count": null,
            "_view_module": "@jupyter-widgets/controls",
            "_view_module_version": "1.5.0",
            "_view_name": "HTMLView",
            "description": "",
            "description_tooltip": null,
            "layout": "IPY_MODEL_b882122c000843f987d21d111c303bbe",
            "placeholder": "​",
            "style": "IPY_MODEL_de1948f85a9141d19585baa543898d8f",
            "value": "<center> <img\nsrc=https://huggingface.co/front/assets/huggingface_logo-noborder.svg\nalt='Hugging Face'> <br> Copy a token from <a\nhref=\"https://huggingface.co/settings/tokens\" target=\"_blank\">your Hugging Face\ntokens page</a> and paste it below. <br> Immediately click login after copying\nyour token or it might be stored in plain text in this notebook file. </center>"
          }
        },
        "5eacde06c89547e98554459e62313225": {
          "model_module": "@jupyter-widgets/controls",
          "model_name": "PasswordModel",
          "model_module_version": "1.5.0",
          "state": {
            "_dom_classes": [],
            "_model_module": "@jupyter-widgets/controls",
            "_model_module_version": "1.5.0",
            "_model_name": "PasswordModel",
            "_view_count": null,
            "_view_module": "@jupyter-widgets/controls",
            "_view_module_version": "1.5.0",
            "_view_name": "PasswordView",
            "continuous_update": true,
            "description": "Token:",
            "description_tooltip": null,
            "disabled": false,
            "layout": "IPY_MODEL_b6f4f096f2d7435d8428c6def78357bf",
            "placeholder": "​",
            "style": "IPY_MODEL_f21f550beab34f90b15340cdb711b96a",
            "value": ""
          }
        },
        "48a8e9268cef4c968408d6e51f506f77": {
          "model_module": "@jupyter-widgets/controls",
          "model_name": "CheckboxModel",
          "model_module_version": "1.5.0",
          "state": {
            "_dom_classes": [],
            "_model_module": "@jupyter-widgets/controls",
            "_model_module_version": "1.5.0",
            "_model_name": "CheckboxModel",
            "_view_count": null,
            "_view_module": "@jupyter-widgets/controls",
            "_view_module_version": "1.5.0",
            "_view_name": "CheckboxView",
            "description": "Add token as git credential?",
            "description_tooltip": null,
            "disabled": false,
            "indent": true,
            "layout": "IPY_MODEL_1d32be80e8214b0594ba3e86afbe8d45",
            "style": "IPY_MODEL_24e6a46640974f0ca37461e3f8fd578d",
            "value": true
          }
        },
        "2a1b4c737e11438ea266ec912fde6e9c": {
          "model_module": "@jupyter-widgets/controls",
          "model_name": "ButtonModel",
          "model_module_version": "1.5.0",
          "state": {
            "_dom_classes": [],
            "_model_module": "@jupyter-widgets/controls",
            "_model_module_version": "1.5.0",
            "_model_name": "ButtonModel",
            "_view_count": null,
            "_view_module": "@jupyter-widgets/controls",
            "_view_module_version": "1.5.0",
            "_view_name": "ButtonView",
            "button_style": "",
            "description": "Login",
            "disabled": false,
            "icon": "",
            "layout": "IPY_MODEL_20f23765a29449308c849310fefe8a66",
            "style": "IPY_MODEL_1d0fc753c943458c9f8d82c72492997a",
            "tooltip": ""
          }
        },
        "b6c371001374479798339a53f3934947": {
          "model_module": "@jupyter-widgets/controls",
          "model_name": "HTMLModel",
          "model_module_version": "1.5.0",
          "state": {
            "_dom_classes": [],
            "_model_module": "@jupyter-widgets/controls",
            "_model_module_version": "1.5.0",
            "_model_name": "HTMLModel",
            "_view_count": null,
            "_view_module": "@jupyter-widgets/controls",
            "_view_module_version": "1.5.0",
            "_view_name": "HTMLView",
            "description": "",
            "description_tooltip": null,
            "layout": "IPY_MODEL_33b824ac475d4138bb59805c30ebb5c9",
            "placeholder": "​",
            "style": "IPY_MODEL_0a92c30cc06146d1bda858d5578d5e14",
            "value": "\n<b>Pro Tip:</b> If you don't already have one, you can create a dedicated\n'notebooks' token with 'write' access, that you can then easily reuse for all\nnotebooks. </center>"
          }
        },
        "6d90d883ac1c44489536d28de01d2ddd": {
          "model_module": "@jupyter-widgets/base",
          "model_name": "LayoutModel",
          "model_module_version": "1.2.0",
          "state": {
            "_model_module": "@jupyter-widgets/base",
            "_model_module_version": "1.2.0",
            "_model_name": "LayoutModel",
            "_view_count": null,
            "_view_module": "@jupyter-widgets/base",
            "_view_module_version": "1.2.0",
            "_view_name": "LayoutView",
            "align_content": null,
            "align_items": "center",
            "align_self": null,
            "border": null,
            "bottom": null,
            "display": "flex",
            "flex": null,
            "flex_flow": "column",
            "grid_area": null,
            "grid_auto_columns": null,
            "grid_auto_flow": null,
            "grid_auto_rows": null,
            "grid_column": null,
            "grid_gap": null,
            "grid_row": null,
            "grid_template_areas": null,
            "grid_template_columns": null,
            "grid_template_rows": null,
            "height": null,
            "justify_content": null,
            "justify_items": null,
            "left": null,
            "margin": null,
            "max_height": null,
            "max_width": null,
            "min_height": null,
            "min_width": null,
            "object_fit": null,
            "object_position": null,
            "order": null,
            "overflow": null,
            "overflow_x": null,
            "overflow_y": null,
            "padding": null,
            "right": null,
            "top": null,
            "visibility": null,
            "width": "50%"
          }
        },
        "b882122c000843f987d21d111c303bbe": {
          "model_module": "@jupyter-widgets/base",
          "model_name": "LayoutModel",
          "model_module_version": "1.2.0",
          "state": {
            "_model_module": "@jupyter-widgets/base",
            "_model_module_version": "1.2.0",
            "_model_name": "LayoutModel",
            "_view_count": null,
            "_view_module": "@jupyter-widgets/base",
            "_view_module_version": "1.2.0",
            "_view_name": "LayoutView",
            "align_content": null,
            "align_items": null,
            "align_self": null,
            "border": null,
            "bottom": null,
            "display": null,
            "flex": null,
            "flex_flow": null,
            "grid_area": null,
            "grid_auto_columns": null,
            "grid_auto_flow": null,
            "grid_auto_rows": null,
            "grid_column": null,
            "grid_gap": null,
            "grid_row": null,
            "grid_template_areas": null,
            "grid_template_columns": null,
            "grid_template_rows": null,
            "height": null,
            "justify_content": null,
            "justify_items": null,
            "left": null,
            "margin": null,
            "max_height": null,
            "max_width": null,
            "min_height": null,
            "min_width": null,
            "object_fit": null,
            "object_position": null,
            "order": null,
            "overflow": null,
            "overflow_x": null,
            "overflow_y": null,
            "padding": null,
            "right": null,
            "top": null,
            "visibility": null,
            "width": null
          }
        },
        "de1948f85a9141d19585baa543898d8f": {
          "model_module": "@jupyter-widgets/controls",
          "model_name": "DescriptionStyleModel",
          "model_module_version": "1.5.0",
          "state": {
            "_model_module": "@jupyter-widgets/controls",
            "_model_module_version": "1.5.0",
            "_model_name": "DescriptionStyleModel",
            "_view_count": null,
            "_view_module": "@jupyter-widgets/base",
            "_view_module_version": "1.2.0",
            "_view_name": "StyleView",
            "description_width": ""
          }
        },
        "b6f4f096f2d7435d8428c6def78357bf": {
          "model_module": "@jupyter-widgets/base",
          "model_name": "LayoutModel",
          "model_module_version": "1.2.0",
          "state": {
            "_model_module": "@jupyter-widgets/base",
            "_model_module_version": "1.2.0",
            "_model_name": "LayoutModel",
            "_view_count": null,
            "_view_module": "@jupyter-widgets/base",
            "_view_module_version": "1.2.0",
            "_view_name": "LayoutView",
            "align_content": null,
            "align_items": null,
            "align_self": null,
            "border": null,
            "bottom": null,
            "display": null,
            "flex": null,
            "flex_flow": null,
            "grid_area": null,
            "grid_auto_columns": null,
            "grid_auto_flow": null,
            "grid_auto_rows": null,
            "grid_column": null,
            "grid_gap": null,
            "grid_row": null,
            "grid_template_areas": null,
            "grid_template_columns": null,
            "grid_template_rows": null,
            "height": null,
            "justify_content": null,
            "justify_items": null,
            "left": null,
            "margin": null,
            "max_height": null,
            "max_width": null,
            "min_height": null,
            "min_width": null,
            "object_fit": null,
            "object_position": null,
            "order": null,
            "overflow": null,
            "overflow_x": null,
            "overflow_y": null,
            "padding": null,
            "right": null,
            "top": null,
            "visibility": null,
            "width": null
          }
        },
        "f21f550beab34f90b15340cdb711b96a": {
          "model_module": "@jupyter-widgets/controls",
          "model_name": "DescriptionStyleModel",
          "model_module_version": "1.5.0",
          "state": {
            "_model_module": "@jupyter-widgets/controls",
            "_model_module_version": "1.5.0",
            "_model_name": "DescriptionStyleModel",
            "_view_count": null,
            "_view_module": "@jupyter-widgets/base",
            "_view_module_version": "1.2.0",
            "_view_name": "StyleView",
            "description_width": ""
          }
        },
        "1d32be80e8214b0594ba3e86afbe8d45": {
          "model_module": "@jupyter-widgets/base",
          "model_name": "LayoutModel",
          "model_module_version": "1.2.0",
          "state": {
            "_model_module": "@jupyter-widgets/base",
            "_model_module_version": "1.2.0",
            "_model_name": "LayoutModel",
            "_view_count": null,
            "_view_module": "@jupyter-widgets/base",
            "_view_module_version": "1.2.0",
            "_view_name": "LayoutView",
            "align_content": null,
            "align_items": null,
            "align_self": null,
            "border": null,
            "bottom": null,
            "display": null,
            "flex": null,
            "flex_flow": null,
            "grid_area": null,
            "grid_auto_columns": null,
            "grid_auto_flow": null,
            "grid_auto_rows": null,
            "grid_column": null,
            "grid_gap": null,
            "grid_row": null,
            "grid_template_areas": null,
            "grid_template_columns": null,
            "grid_template_rows": null,
            "height": null,
            "justify_content": null,
            "justify_items": null,
            "left": null,
            "margin": null,
            "max_height": null,
            "max_width": null,
            "min_height": null,
            "min_width": null,
            "object_fit": null,
            "object_position": null,
            "order": null,
            "overflow": null,
            "overflow_x": null,
            "overflow_y": null,
            "padding": null,
            "right": null,
            "top": null,
            "visibility": null,
            "width": null
          }
        },
        "24e6a46640974f0ca37461e3f8fd578d": {
          "model_module": "@jupyter-widgets/controls",
          "model_name": "DescriptionStyleModel",
          "model_module_version": "1.5.0",
          "state": {
            "_model_module": "@jupyter-widgets/controls",
            "_model_module_version": "1.5.0",
            "_model_name": "DescriptionStyleModel",
            "_view_count": null,
            "_view_module": "@jupyter-widgets/base",
            "_view_module_version": "1.2.0",
            "_view_name": "StyleView",
            "description_width": ""
          }
        },
        "20f23765a29449308c849310fefe8a66": {
          "model_module": "@jupyter-widgets/base",
          "model_name": "LayoutModel",
          "model_module_version": "1.2.0",
          "state": {
            "_model_module": "@jupyter-widgets/base",
            "_model_module_version": "1.2.0",
            "_model_name": "LayoutModel",
            "_view_count": null,
            "_view_module": "@jupyter-widgets/base",
            "_view_module_version": "1.2.0",
            "_view_name": "LayoutView",
            "align_content": null,
            "align_items": null,
            "align_self": null,
            "border": null,
            "bottom": null,
            "display": null,
            "flex": null,
            "flex_flow": null,
            "grid_area": null,
            "grid_auto_columns": null,
            "grid_auto_flow": null,
            "grid_auto_rows": null,
            "grid_column": null,
            "grid_gap": null,
            "grid_row": null,
            "grid_template_areas": null,
            "grid_template_columns": null,
            "grid_template_rows": null,
            "height": null,
            "justify_content": null,
            "justify_items": null,
            "left": null,
            "margin": null,
            "max_height": null,
            "max_width": null,
            "min_height": null,
            "min_width": null,
            "object_fit": null,
            "object_position": null,
            "order": null,
            "overflow": null,
            "overflow_x": null,
            "overflow_y": null,
            "padding": null,
            "right": null,
            "top": null,
            "visibility": null,
            "width": null
          }
        },
        "1d0fc753c943458c9f8d82c72492997a": {
          "model_module": "@jupyter-widgets/controls",
          "model_name": "ButtonStyleModel",
          "model_module_version": "1.5.0",
          "state": {
            "_model_module": "@jupyter-widgets/controls",
            "_model_module_version": "1.5.0",
            "_model_name": "ButtonStyleModel",
            "_view_count": null,
            "_view_module": "@jupyter-widgets/base",
            "_view_module_version": "1.2.0",
            "_view_name": "StyleView",
            "button_color": null,
            "font_weight": ""
          }
        },
        "33b824ac475d4138bb59805c30ebb5c9": {
          "model_module": "@jupyter-widgets/base",
          "model_name": "LayoutModel",
          "model_module_version": "1.2.0",
          "state": {
            "_model_module": "@jupyter-widgets/base",
            "_model_module_version": "1.2.0",
            "_model_name": "LayoutModel",
            "_view_count": null,
            "_view_module": "@jupyter-widgets/base",
            "_view_module_version": "1.2.0",
            "_view_name": "LayoutView",
            "align_content": null,
            "align_items": null,
            "align_self": null,
            "border": null,
            "bottom": null,
            "display": null,
            "flex": null,
            "flex_flow": null,
            "grid_area": null,
            "grid_auto_columns": null,
            "grid_auto_flow": null,
            "grid_auto_rows": null,
            "grid_column": null,
            "grid_gap": null,
            "grid_row": null,
            "grid_template_areas": null,
            "grid_template_columns": null,
            "grid_template_rows": null,
            "height": null,
            "justify_content": null,
            "justify_items": null,
            "left": null,
            "margin": null,
            "max_height": null,
            "max_width": null,
            "min_height": null,
            "min_width": null,
            "object_fit": null,
            "object_position": null,
            "order": null,
            "overflow": null,
            "overflow_x": null,
            "overflow_y": null,
            "padding": null,
            "right": null,
            "top": null,
            "visibility": null,
            "width": null
          }
        },
        "0a92c30cc06146d1bda858d5578d5e14": {
          "model_module": "@jupyter-widgets/controls",
          "model_name": "DescriptionStyleModel",
          "model_module_version": "1.5.0",
          "state": {
            "_model_module": "@jupyter-widgets/controls",
            "_model_module_version": "1.5.0",
            "_model_name": "DescriptionStyleModel",
            "_view_count": null,
            "_view_module": "@jupyter-widgets/base",
            "_view_module_version": "1.2.0",
            "_view_name": "StyleView",
            "description_width": ""
          }
        },
        "6153a941774a4105ab12853db42daf18": {
          "model_module": "@jupyter-widgets/controls",
          "model_name": "HBoxModel",
          "model_module_version": "1.5.0",
          "state": {
            "_dom_classes": [],
            "_model_module": "@jupyter-widgets/controls",
            "_model_module_version": "1.5.0",
            "_model_name": "HBoxModel",
            "_view_count": null,
            "_view_module": "@jupyter-widgets/controls",
            "_view_module_version": "1.5.0",
            "_view_name": "HBoxView",
            "box_style": "",
            "children": [
              "IPY_MODEL_b7f3587fd0724ec7967866b279672c98",
              "IPY_MODEL_ffb3266771e9452e82d86ace327c4172",
              "IPY_MODEL_0cfa81ae615c4a1c92a14d5d567dc3f3"
            ],
            "layout": "IPY_MODEL_627101cb1bda4b7dbd35b608ff1eea60"
          }
        },
        "b7f3587fd0724ec7967866b279672c98": {
          "model_module": "@jupyter-widgets/controls",
          "model_name": "HTMLModel",
          "model_module_version": "1.5.0",
          "state": {
            "_dom_classes": [],
            "_model_module": "@jupyter-widgets/controls",
            "_model_module_version": "1.5.0",
            "_model_name": "HTMLModel",
            "_view_count": null,
            "_view_module": "@jupyter-widgets/controls",
            "_view_module_version": "1.5.0",
            "_view_name": "HTMLView",
            "description": "",
            "description_tooltip": null,
            "layout": "IPY_MODEL_a5454d7d43464db8a151a06413fd4549",
            "placeholder": "​",
            "style": "IPY_MODEL_f3920c8368724c07ab42479b9e121b1b",
            "value": "Loading checkpoint shards: 100%"
          }
        },
        "ffb3266771e9452e82d86ace327c4172": {
          "model_module": "@jupyter-widgets/controls",
          "model_name": "FloatProgressModel",
          "model_module_version": "1.5.0",
          "state": {
            "_dom_classes": [],
            "_model_module": "@jupyter-widgets/controls",
            "_model_module_version": "1.5.0",
            "_model_name": "FloatProgressModel",
            "_view_count": null,
            "_view_module": "@jupyter-widgets/controls",
            "_view_module_version": "1.5.0",
            "_view_name": "ProgressView",
            "bar_style": "success",
            "description": "",
            "description_tooltip": null,
            "layout": "IPY_MODEL_005a57f10220401dac7b7750ee8faab4",
            "max": 2,
            "min": 0,
            "orientation": "horizontal",
            "style": "IPY_MODEL_2548a23a763d467d894e4d6e44415f3a",
            "value": 2
          }
        },
        "0cfa81ae615c4a1c92a14d5d567dc3f3": {
          "model_module": "@jupyter-widgets/controls",
          "model_name": "HTMLModel",
          "model_module_version": "1.5.0",
          "state": {
            "_dom_classes": [],
            "_model_module": "@jupyter-widgets/controls",
            "_model_module_version": "1.5.0",
            "_model_name": "HTMLModel",
            "_view_count": null,
            "_view_module": "@jupyter-widgets/controls",
            "_view_module_version": "1.5.0",
            "_view_name": "HTMLView",
            "description": "",
            "description_tooltip": null,
            "layout": "IPY_MODEL_8d92974528f84d08ade3d48a643952b4",
            "placeholder": "​",
            "style": "IPY_MODEL_e4d79c098d304850a474208e296d7669",
            "value": " 2/2 [00:29&lt;00:00, 15.31s/it]"
          }
        },
        "627101cb1bda4b7dbd35b608ff1eea60": {
          "model_module": "@jupyter-widgets/base",
          "model_name": "LayoutModel",
          "model_module_version": "1.2.0",
          "state": {
            "_model_module": "@jupyter-widgets/base",
            "_model_module_version": "1.2.0",
            "_model_name": "LayoutModel",
            "_view_count": null,
            "_view_module": "@jupyter-widgets/base",
            "_view_module_version": "1.2.0",
            "_view_name": "LayoutView",
            "align_content": null,
            "align_items": null,
            "align_self": null,
            "border": null,
            "bottom": null,
            "display": null,
            "flex": null,
            "flex_flow": null,
            "grid_area": null,
            "grid_auto_columns": null,
            "grid_auto_flow": null,
            "grid_auto_rows": null,
            "grid_column": null,
            "grid_gap": null,
            "grid_row": null,
            "grid_template_areas": null,
            "grid_template_columns": null,
            "grid_template_rows": null,
            "height": null,
            "justify_content": null,
            "justify_items": null,
            "left": null,
            "margin": null,
            "max_height": null,
            "max_width": null,
            "min_height": null,
            "min_width": null,
            "object_fit": null,
            "object_position": null,
            "order": null,
            "overflow": null,
            "overflow_x": null,
            "overflow_y": null,
            "padding": null,
            "right": null,
            "top": null,
            "visibility": null,
            "width": null
          }
        },
        "a5454d7d43464db8a151a06413fd4549": {
          "model_module": "@jupyter-widgets/base",
          "model_name": "LayoutModel",
          "model_module_version": "1.2.0",
          "state": {
            "_model_module": "@jupyter-widgets/base",
            "_model_module_version": "1.2.0",
            "_model_name": "LayoutModel",
            "_view_count": null,
            "_view_module": "@jupyter-widgets/base",
            "_view_module_version": "1.2.0",
            "_view_name": "LayoutView",
            "align_content": null,
            "align_items": null,
            "align_self": null,
            "border": null,
            "bottom": null,
            "display": null,
            "flex": null,
            "flex_flow": null,
            "grid_area": null,
            "grid_auto_columns": null,
            "grid_auto_flow": null,
            "grid_auto_rows": null,
            "grid_column": null,
            "grid_gap": null,
            "grid_row": null,
            "grid_template_areas": null,
            "grid_template_columns": null,
            "grid_template_rows": null,
            "height": null,
            "justify_content": null,
            "justify_items": null,
            "left": null,
            "margin": null,
            "max_height": null,
            "max_width": null,
            "min_height": null,
            "min_width": null,
            "object_fit": null,
            "object_position": null,
            "order": null,
            "overflow": null,
            "overflow_x": null,
            "overflow_y": null,
            "padding": null,
            "right": null,
            "top": null,
            "visibility": null,
            "width": null
          }
        },
        "f3920c8368724c07ab42479b9e121b1b": {
          "model_module": "@jupyter-widgets/controls",
          "model_name": "DescriptionStyleModel",
          "model_module_version": "1.5.0",
          "state": {
            "_model_module": "@jupyter-widgets/controls",
            "_model_module_version": "1.5.0",
            "_model_name": "DescriptionStyleModel",
            "_view_count": null,
            "_view_module": "@jupyter-widgets/base",
            "_view_module_version": "1.2.0",
            "_view_name": "StyleView",
            "description_width": ""
          }
        },
        "005a57f10220401dac7b7750ee8faab4": {
          "model_module": "@jupyter-widgets/base",
          "model_name": "LayoutModel",
          "model_module_version": "1.2.0",
          "state": {
            "_model_module": "@jupyter-widgets/base",
            "_model_module_version": "1.2.0",
            "_model_name": "LayoutModel",
            "_view_count": null,
            "_view_module": "@jupyter-widgets/base",
            "_view_module_version": "1.2.0",
            "_view_name": "LayoutView",
            "align_content": null,
            "align_items": null,
            "align_self": null,
            "border": null,
            "bottom": null,
            "display": null,
            "flex": null,
            "flex_flow": null,
            "grid_area": null,
            "grid_auto_columns": null,
            "grid_auto_flow": null,
            "grid_auto_rows": null,
            "grid_column": null,
            "grid_gap": null,
            "grid_row": null,
            "grid_template_areas": null,
            "grid_template_columns": null,
            "grid_template_rows": null,
            "height": null,
            "justify_content": null,
            "justify_items": null,
            "left": null,
            "margin": null,
            "max_height": null,
            "max_width": null,
            "min_height": null,
            "min_width": null,
            "object_fit": null,
            "object_position": null,
            "order": null,
            "overflow": null,
            "overflow_x": null,
            "overflow_y": null,
            "padding": null,
            "right": null,
            "top": null,
            "visibility": null,
            "width": null
          }
        },
        "2548a23a763d467d894e4d6e44415f3a": {
          "model_module": "@jupyter-widgets/controls",
          "model_name": "ProgressStyleModel",
          "model_module_version": "1.5.0",
          "state": {
            "_model_module": "@jupyter-widgets/controls",
            "_model_module_version": "1.5.0",
            "_model_name": "ProgressStyleModel",
            "_view_count": null,
            "_view_module": "@jupyter-widgets/base",
            "_view_module_version": "1.2.0",
            "_view_name": "StyleView",
            "bar_color": null,
            "description_width": ""
          }
        },
        "8d92974528f84d08ade3d48a643952b4": {
          "model_module": "@jupyter-widgets/base",
          "model_name": "LayoutModel",
          "model_module_version": "1.2.0",
          "state": {
            "_model_module": "@jupyter-widgets/base",
            "_model_module_version": "1.2.0",
            "_model_name": "LayoutModel",
            "_view_count": null,
            "_view_module": "@jupyter-widgets/base",
            "_view_module_version": "1.2.0",
            "_view_name": "LayoutView",
            "align_content": null,
            "align_items": null,
            "align_self": null,
            "border": null,
            "bottom": null,
            "display": null,
            "flex": null,
            "flex_flow": null,
            "grid_area": null,
            "grid_auto_columns": null,
            "grid_auto_flow": null,
            "grid_auto_rows": null,
            "grid_column": null,
            "grid_gap": null,
            "grid_row": null,
            "grid_template_areas": null,
            "grid_template_columns": null,
            "grid_template_rows": null,
            "height": null,
            "justify_content": null,
            "justify_items": null,
            "left": null,
            "margin": null,
            "max_height": null,
            "max_width": null,
            "min_height": null,
            "min_width": null,
            "object_fit": null,
            "object_position": null,
            "order": null,
            "overflow": null,
            "overflow_x": null,
            "overflow_y": null,
            "padding": null,
            "right": null,
            "top": null,
            "visibility": null,
            "width": null
          }
        },
        "e4d79c098d304850a474208e296d7669": {
          "model_module": "@jupyter-widgets/controls",
          "model_name": "DescriptionStyleModel",
          "model_module_version": "1.5.0",
          "state": {
            "_model_module": "@jupyter-widgets/controls",
            "_model_module_version": "1.5.0",
            "_model_name": "DescriptionStyleModel",
            "_view_count": null,
            "_view_module": "@jupyter-widgets/base",
            "_view_module_version": "1.2.0",
            "_view_name": "StyleView",
            "description_width": ""
          }
        },
        "654450f0b1bc410d83717bc1660a3032": {
          "model_module": "@jupyter-widgets/controls",
          "model_name": "HBoxModel",
          "model_module_version": "1.5.0",
          "state": {
            "_dom_classes": [],
            "_model_module": "@jupyter-widgets/controls",
            "_model_module_version": "1.5.0",
            "_model_name": "HBoxModel",
            "_view_count": null,
            "_view_module": "@jupyter-widgets/controls",
            "_view_module_version": "1.5.0",
            "_view_name": "HBoxView",
            "box_style": "",
            "children": [
              "IPY_MODEL_416d23a8c7544b7c9a9e240b10f76f06",
              "IPY_MODEL_60ba65349c6d48f0b89be9b3935a4977",
              "IPY_MODEL_b361e2866c7842f4aeafe61b9f65ce0b"
            ],
            "layout": "IPY_MODEL_456a0b5d522d4de3a90308b5c4b4c806"
          }
        },
        "416d23a8c7544b7c9a9e240b10f76f06": {
          "model_module": "@jupyter-widgets/controls",
          "model_name": "HTMLModel",
          "model_module_version": "1.5.0",
          "state": {
            "_dom_classes": [],
            "_model_module": "@jupyter-widgets/controls",
            "_model_module_version": "1.5.0",
            "_model_name": "HTMLModel",
            "_view_count": null,
            "_view_module": "@jupyter-widgets/controls",
            "_view_module_version": "1.5.0",
            "_view_name": "HTMLView",
            "description": "",
            "description_tooltip": null,
            "layout": "IPY_MODEL_594e62d0e14548c0a4e971630c37e00d",
            "placeholder": "​",
            "style": "IPY_MODEL_f470fffc4f394c558637b769dde6d3e5",
            "value": "generation_config.json: 100%"
          }
        },
        "60ba65349c6d48f0b89be9b3935a4977": {
          "model_module": "@jupyter-widgets/controls",
          "model_name": "FloatProgressModel",
          "model_module_version": "1.5.0",
          "state": {
            "_dom_classes": [],
            "_model_module": "@jupyter-widgets/controls",
            "_model_module_version": "1.5.0",
            "_model_name": "FloatProgressModel",
            "_view_count": null,
            "_view_module": "@jupyter-widgets/controls",
            "_view_module_version": "1.5.0",
            "_view_name": "ProgressView",
            "bar_style": "success",
            "description": "",
            "description_tooltip": null,
            "layout": "IPY_MODEL_63e697c3dbd4414f91ca4108048b6410",
            "max": 136,
            "min": 0,
            "orientation": "horizontal",
            "style": "IPY_MODEL_a5cc4e21cb224175bae473f402b86618",
            "value": 136
          }
        },
        "b361e2866c7842f4aeafe61b9f65ce0b": {
          "model_module": "@jupyter-widgets/controls",
          "model_name": "HTMLModel",
          "model_module_version": "1.5.0",
          "state": {
            "_dom_classes": [],
            "_model_module": "@jupyter-widgets/controls",
            "_model_module_version": "1.5.0",
            "_model_name": "HTMLModel",
            "_view_count": null,
            "_view_module": "@jupyter-widgets/controls",
            "_view_module_version": "1.5.0",
            "_view_name": "HTMLView",
            "description": "",
            "description_tooltip": null,
            "layout": "IPY_MODEL_14ce1605d8b848679f9027ed40be720c",
            "placeholder": "​",
            "style": "IPY_MODEL_e9ed98ba6a2c431aa8cf0fa6182fe95b",
            "value": " 136/136 [00:00&lt;00:00, 12.7kB/s]"
          }
        },
        "456a0b5d522d4de3a90308b5c4b4c806": {
          "model_module": "@jupyter-widgets/base",
          "model_name": "LayoutModel",
          "model_module_version": "1.2.0",
          "state": {
            "_model_module": "@jupyter-widgets/base",
            "_model_module_version": "1.2.0",
            "_model_name": "LayoutModel",
            "_view_count": null,
            "_view_module": "@jupyter-widgets/base",
            "_view_module_version": "1.2.0",
            "_view_name": "LayoutView",
            "align_content": null,
            "align_items": null,
            "align_self": null,
            "border": null,
            "bottom": null,
            "display": null,
            "flex": null,
            "flex_flow": null,
            "grid_area": null,
            "grid_auto_columns": null,
            "grid_auto_flow": null,
            "grid_auto_rows": null,
            "grid_column": null,
            "grid_gap": null,
            "grid_row": null,
            "grid_template_areas": null,
            "grid_template_columns": null,
            "grid_template_rows": null,
            "height": null,
            "justify_content": null,
            "justify_items": null,
            "left": null,
            "margin": null,
            "max_height": null,
            "max_width": null,
            "min_height": null,
            "min_width": null,
            "object_fit": null,
            "object_position": null,
            "order": null,
            "overflow": null,
            "overflow_x": null,
            "overflow_y": null,
            "padding": null,
            "right": null,
            "top": null,
            "visibility": null,
            "width": null
          }
        },
        "594e62d0e14548c0a4e971630c37e00d": {
          "model_module": "@jupyter-widgets/base",
          "model_name": "LayoutModel",
          "model_module_version": "1.2.0",
          "state": {
            "_model_module": "@jupyter-widgets/base",
            "_model_module_version": "1.2.0",
            "_model_name": "LayoutModel",
            "_view_count": null,
            "_view_module": "@jupyter-widgets/base",
            "_view_module_version": "1.2.0",
            "_view_name": "LayoutView",
            "align_content": null,
            "align_items": null,
            "align_self": null,
            "border": null,
            "bottom": null,
            "display": null,
            "flex": null,
            "flex_flow": null,
            "grid_area": null,
            "grid_auto_columns": null,
            "grid_auto_flow": null,
            "grid_auto_rows": null,
            "grid_column": null,
            "grid_gap": null,
            "grid_row": null,
            "grid_template_areas": null,
            "grid_template_columns": null,
            "grid_template_rows": null,
            "height": null,
            "justify_content": null,
            "justify_items": null,
            "left": null,
            "margin": null,
            "max_height": null,
            "max_width": null,
            "min_height": null,
            "min_width": null,
            "object_fit": null,
            "object_position": null,
            "order": null,
            "overflow": null,
            "overflow_x": null,
            "overflow_y": null,
            "padding": null,
            "right": null,
            "top": null,
            "visibility": null,
            "width": null
          }
        },
        "f470fffc4f394c558637b769dde6d3e5": {
          "model_module": "@jupyter-widgets/controls",
          "model_name": "DescriptionStyleModel",
          "model_module_version": "1.5.0",
          "state": {
            "_model_module": "@jupyter-widgets/controls",
            "_model_module_version": "1.5.0",
            "_model_name": "DescriptionStyleModel",
            "_view_count": null,
            "_view_module": "@jupyter-widgets/base",
            "_view_module_version": "1.2.0",
            "_view_name": "StyleView",
            "description_width": ""
          }
        },
        "63e697c3dbd4414f91ca4108048b6410": {
          "model_module": "@jupyter-widgets/base",
          "model_name": "LayoutModel",
          "model_module_version": "1.2.0",
          "state": {
            "_model_module": "@jupyter-widgets/base",
            "_model_module_version": "1.2.0",
            "_model_name": "LayoutModel",
            "_view_count": null,
            "_view_module": "@jupyter-widgets/base",
            "_view_module_version": "1.2.0",
            "_view_name": "LayoutView",
            "align_content": null,
            "align_items": null,
            "align_self": null,
            "border": null,
            "bottom": null,
            "display": null,
            "flex": null,
            "flex_flow": null,
            "grid_area": null,
            "grid_auto_columns": null,
            "grid_auto_flow": null,
            "grid_auto_rows": null,
            "grid_column": null,
            "grid_gap": null,
            "grid_row": null,
            "grid_template_areas": null,
            "grid_template_columns": null,
            "grid_template_rows": null,
            "height": null,
            "justify_content": null,
            "justify_items": null,
            "left": null,
            "margin": null,
            "max_height": null,
            "max_width": null,
            "min_height": null,
            "min_width": null,
            "object_fit": null,
            "object_position": null,
            "order": null,
            "overflow": null,
            "overflow_x": null,
            "overflow_y": null,
            "padding": null,
            "right": null,
            "top": null,
            "visibility": null,
            "width": null
          }
        },
        "a5cc4e21cb224175bae473f402b86618": {
          "model_module": "@jupyter-widgets/controls",
          "model_name": "ProgressStyleModel",
          "model_module_version": "1.5.0",
          "state": {
            "_model_module": "@jupyter-widgets/controls",
            "_model_module_version": "1.5.0",
            "_model_name": "ProgressStyleModel",
            "_view_count": null,
            "_view_module": "@jupyter-widgets/base",
            "_view_module_version": "1.2.0",
            "_view_name": "StyleView",
            "bar_color": null,
            "description_width": ""
          }
        },
        "14ce1605d8b848679f9027ed40be720c": {
          "model_module": "@jupyter-widgets/base",
          "model_name": "LayoutModel",
          "model_module_version": "1.2.0",
          "state": {
            "_model_module": "@jupyter-widgets/base",
            "_model_module_version": "1.2.0",
            "_model_name": "LayoutModel",
            "_view_count": null,
            "_view_module": "@jupyter-widgets/base",
            "_view_module_version": "1.2.0",
            "_view_name": "LayoutView",
            "align_content": null,
            "align_items": null,
            "align_self": null,
            "border": null,
            "bottom": null,
            "display": null,
            "flex": null,
            "flex_flow": null,
            "grid_area": null,
            "grid_auto_columns": null,
            "grid_auto_flow": null,
            "grid_auto_rows": null,
            "grid_column": null,
            "grid_gap": null,
            "grid_row": null,
            "grid_template_areas": null,
            "grid_template_columns": null,
            "grid_template_rows": null,
            "height": null,
            "justify_content": null,
            "justify_items": null,
            "left": null,
            "margin": null,
            "max_height": null,
            "max_width": null,
            "min_height": null,
            "min_width": null,
            "object_fit": null,
            "object_position": null,
            "order": null,
            "overflow": null,
            "overflow_x": null,
            "overflow_y": null,
            "padding": null,
            "right": null,
            "top": null,
            "visibility": null,
            "width": null
          }
        },
        "e9ed98ba6a2c431aa8cf0fa6182fe95b": {
          "model_module": "@jupyter-widgets/controls",
          "model_name": "DescriptionStyleModel",
          "model_module_version": "1.5.0",
          "state": {
            "_model_module": "@jupyter-widgets/controls",
            "_model_module_version": "1.5.0",
            "_model_name": "DescriptionStyleModel",
            "_view_count": null,
            "_view_module": "@jupyter-widgets/base",
            "_view_module_version": "1.2.0",
            "_view_name": "StyleView",
            "description_width": ""
          }
        }
      }
    }
  },
  "cells": [
    {
      "cell_type": "markdown",
      "source": [
        "# Inference Notebook Template"
      ],
      "metadata": {
        "id": "CAIJIOZYqNvk"
      }
    },
    {
      "cell_type": "markdown",
      "source": [
        "**What this does:**\n",
        "1. **Helper** (`save_results`): dumps any single `dict` into a timestamped JSON file under `results/`.\n",
        "2. **Prompt & image**: only one each—just swap in your own strings/paths.\n",
        "3. **Model loading**: picks the chosen variant from HF.\n",
        "4. **Inference**: calls `.generate()` on one image + prompt.\n",
        "5. **Output**: prints the output and writes all metadata + result into JSON."
      ],
      "metadata": {
        "id": "gr51v0mEsqTB"
      }
    },
    {
      "cell_type": "code",
      "source": [
        "!pip install -qqq num2words"
      ],
      "metadata": {
        "id": "pr-3EqXMv8Dd"
      },
      "execution_count": 30,
      "outputs": []
    },
    {
      "cell_type": "markdown",
      "source": [
        "## 📚 Helper: Save any results dict to JSON"
      ],
      "metadata": {
        "id": "xdjznrW9qc0Q"
      }
    },
    {
      "cell_type": "code",
      "execution_count": 13,
      "metadata": {
        "id": "eqn7_Om5qIZ7"
      },
      "outputs": [],
      "source": [
        "import json, os\n",
        "from datetime import datetime\n",
        "\n",
        "def save_results(data: dict,\n",
        "                 model_name: str,\n",
        "                 variant: str,\n",
        "                 output_dir: str = \"results\"):\n",
        "    # Ensure nested directories are created\n",
        "    model_dir = os.path.join(output_dir, model_name)\n",
        "    os.makedirs(model_dir, exist_ok=True)\n",
        "\n",
        "    ts       = datetime.now().strftime(\"%Y%m%d_%H%M%S\")\n",
        "    fname    = f\"{variant}_{ts}.json\"\n",
        "    out_path = os.path.join(model_dir, fname)\n",
        "\n",
        "    with open(out_path, \"w\") as f:\n",
        "        json.dump(data, f, indent=4)\n",
        "    print(f\"✅ Saved results to {out_path}\")\n"
      ]
    },
    {
      "cell_type": "markdown",
      "source": [
        "# Variant: SmolVLM2-256M-Video-Instruct (Supports videos + Images both!)\n",
        "https://huggingface.co/HuggingFaceTB/SmolVLM2-256M-Video-Instruct"
      ],
      "metadata": {
        "id": "bHIFskJAqhng"
      }
    },
    {
      "cell_type": "markdown",
      "source": [
        "## 1️⃣ Prompt"
      ],
      "metadata": {
        "id": "zItqEgtVqmmb"
      }
    },
    {
      "cell_type": "code",
      "source": [
        "prompt = \"What is this best described as? Choose ONE from: 'Art', 'Graffiti', 'Vandalism', 'Activism', 'Advertisement', 'Other'.\""
      ],
      "metadata": {
        "id": "KAdI4Rz6WNDm"
      },
      "execution_count": 14,
      "outputs": []
    },
    {
      "cell_type": "markdown",
      "source": [
        "## 2️⃣ Load Processor and Model"
      ],
      "metadata": {
        "id": "JVaJV9x3qwEK"
      }
    },
    {
      "cell_type": "code",
      "source": [
        "from huggingface_hub import notebook_login\n",
        "notebook_login()"
      ],
      "metadata": {
        "colab": {
          "base_uri": "https://localhost:8080/",
          "height": 358,
          "referenced_widgets": [
            "01a64ec9b1ca442eb7faf258066c657c",
            "a6336d13378348afb8f08a46e6248743",
            "5eacde06c89547e98554459e62313225",
            "48a8e9268cef4c968408d6e51f506f77",
            "2a1b4c737e11438ea266ec912fde6e9c",
            "b6c371001374479798339a53f3934947",
            "6d90d883ac1c44489536d28de01d2ddd",
            "b882122c000843f987d21d111c303bbe",
            "de1948f85a9141d19585baa543898d8f",
            "b6f4f096f2d7435d8428c6def78357bf",
            "f21f550beab34f90b15340cdb711b96a",
            "1d32be80e8214b0594ba3e86afbe8d45",
            "24e6a46640974f0ca37461e3f8fd578d",
            "20f23765a29449308c849310fefe8a66",
            "1d0fc753c943458c9f8d82c72492997a",
            "33b824ac475d4138bb59805c30ebb5c9",
            "0a92c30cc06146d1bda858d5578d5e14"
          ]
        },
        "id": "T5Q8MVA7u84V",
        "outputId": "8a7cc1a5-f154-4f45-a60f-853372e39810"
      },
      "execution_count": 15,
      "outputs": [
        {
          "output_type": "display_data",
          "data": {
            "text/plain": [
              "VBox(children=(HTML(value='<center> <img\\nsrc=https://huggingface.co/front/assets/huggingface_logo-noborder.sv…"
            ],
            "application/vnd.jupyter.widget-view+json": {
              "version_major": 2,
              "version_minor": 0,
              "model_id": "01a64ec9b1ca442eb7faf258066c657c"
            }
          },
          "metadata": {}
        }
      ]
    },
    {
      "cell_type": "code",
      "source": [
        "from transformers import AutoProcessor, AutoModelForImageTextToText\n",
        "from PIL import Image\n",
        "import torch\n",
        "\n",
        "MODEL_NAME = \"HuggingFaceTB/SmolVLM2\"\n",
        "VARIANT    = \"256M-Video-Instruct\"\n",
        "repo_id    = f\"{MODEL_NAME}-{VARIANT}\"\n",
        "\n",
        "processor = AutoProcessor.from_pretrained(repo_id)\n",
        "model     = AutoModelForImageTextToText.from_pretrained(\n",
        "    repo_id,\n",
        "    torch_dtype=torch.bfloat16\n",
        ").to(\"cuda\").eval()"
      ],
      "metadata": {
        "id": "QleP-dJAqktD"
      },
      "execution_count": 31,
      "outputs": []
    },
    {
      "cell_type": "markdown",
      "source": [
        "## 3️⃣ Inference"
      ],
      "metadata": {
        "id": "gJIDgpdKq2LA"
      }
    },
    {
      "cell_type": "code",
      "source": [
        "def infer_img(image_path: str, prompt: str, system_prompt: str = \"\"):\n",
        "    if not os.path.exists(image_path):\n",
        "        raise FileNotFoundError(f\"Image not found: {image_path}\")\n",
        "\n",
        "    # Load image\n",
        "    raw_image = Image.open(image_path).convert(\"RGB\")\n",
        "\n",
        "    # Build messages\n",
        "    messages = []\n",
        "    if system_prompt:\n",
        "        messages.append({\n",
        "            \"role\": \"system\",\n",
        "            \"content\": [{\"type\": \"text\", \"text\": system_prompt}]\n",
        "        })\n",
        "\n",
        "    messages.append({\n",
        "        \"role\": \"user\",\n",
        "        \"content\": [\n",
        "            {\"type\": \"image\", \"image\": raw_image},\n",
        "            {\"type\": \"text\", \"text\": prompt}\n",
        "        ]\n",
        "    })\n",
        "\n",
        "    # Tokenize\n",
        "    inputs = processor.apply_chat_template(\n",
        "        messages,\n",
        "        add_generation_prompt=True,\n",
        "        tokenize=True,\n",
        "        return_dict=True,\n",
        "        return_tensors=\"pt\"\n",
        "    ).to(model.device, dtype=torch.bfloat16)\n",
        "\n",
        "    # Generate\n",
        "    with torch.inference_mode():\n",
        "        generation = model.generate(**inputs, max_new_tokens=512, do_sample=False, temperature=0)\n",
        "\n",
        "    decoded = processor.batch_decode(generation, skip_special_tokens=True)[0].strip()\n",
        "\n",
        "    # Start only after \"Assistant:\" if present\n",
        "    if \"Assistant:\" in decoded:\n",
        "        decoded = decoded.split(\"Assistant:\", 1)[1].strip()\n",
        "\n",
        "    # Remove echoed prompt\n",
        "    if decoded.startswith(prompt.strip()):\n",
        "        decoded = decoded[len(prompt.strip()):].strip()\n",
        "\n",
        "    return decoded\n"
      ],
      "metadata": {
        "id": "jrHnM9KQyGMw"
      },
      "execution_count": 18,
      "outputs": []
    },
    {
      "cell_type": "markdown",
      "source": [
        "## 4️⃣ Package & Save to JSON"
      ],
      "metadata": {
        "id": "sZlDuZbVrAfj"
      }
    },
    {
      "cell_type": "code",
      "source": [
        "results = []\n",
        "\n",
        "for image_path in image_paths:\n",
        "    try:\n",
        "        output = infer_img(image_path, prompt)\n",
        "        print(f\"{image_path} → {output}\")\n",
        "\n",
        "        result = {\n",
        "            \"image_path\": image_path,\n",
        "            \"model\":      MODEL_NAME,\n",
        "            \"variant\":    VARIANT,\n",
        "            \"prompt\":     prompt,\n",
        "            \"output\":     output\n",
        "        }\n",
        "\n",
        "        results.append(result)\n",
        "\n",
        "    except Exception as e:\n",
        "        print(f\"❌ Error processing {image_path}: {e}\")\n",
        "\n",
        "# Save once, after all images are processed\n",
        "save_results(results, MODEL_NAME, VARIANT)\n"
      ],
      "metadata": {
        "id": "G_zvtayqw4Wo",
        "colab": {
          "base_uri": "https://localhost:8080/"
        },
        "outputId": "18095ce0-5d18-4dbf-f80a-1db5c8928764"
      },
      "execution_count": 28,
      "outputs": [
        {
          "output_type": "stream",
          "name": "stdout",
          "text": [
            "/content/input/image1.png → Graffiti\n",
            "/content/input/image2.png → 'Graffiti'.\n",
            "✅ Saved results to results/HuggingFaceTB/SmolVLM2/256M-Video-Instruct_20250502_092434.json\n"
          ]
        }
      ]
    },
    {
      "cell_type": "code",
      "source": [
        "!sudo rm -rf ./results/*\n"
      ],
      "metadata": {
        "id": "48cDcJemulDp"
      },
      "execution_count": 29,
      "outputs": []
    },
    {
      "cell_type": "markdown",
      "source": [
        "# Variant: SmolVLM2-500M-Video-Instruct\n",
        "\n",
        "https://huggingface.co/HuggingFaceTB/SmolVLM2-500M-Video-Instruct"
      ],
      "metadata": {
        "id": "LQ2IIDXCUnzZ"
      }
    },
    {
      "cell_type": "code",
      "source": [
        "MODEL_NAME = \"HuggingFaceTB/SmolVLM2\"\n",
        "VARIANT    = \"500M-Video-Instruct\"\n",
        "repo_id    = f\"{MODEL_NAME}-{VARIANT}\"\n",
        "\n",
        "\n",
        "processor = AutoProcessor.from_pretrained(repo_id)\n",
        "model     = AutoModelForImageTextToText.from_pretrained(\n",
        "    repo_id,\n",
        "    torch_dtype=torch.bfloat16\n",
        ").to(\"cuda\").eval()\n",
        "\n"
      ],
      "metadata": {
        "id": "3tvxJAFoEnAV"
      },
      "execution_count": 26,
      "outputs": []
    },
    {
      "cell_type": "markdown",
      "source": [
        "## 3️⃣ Inference"
      ],
      "metadata": {
        "id": "ZTm4tA4aVzrZ"
      }
    },
    {
      "cell_type": "code",
      "source": [
        "def infer_img(image_path: str, prompt: str, system_prompt: str = \"\"):\n",
        "    if not os.path.exists(image_path):\n",
        "        raise FileNotFoundError(f\"Image not found: {image_path}\")\n",
        "\n",
        "    # Load image\n",
        "    raw_image = Image.open(image_path).convert(\"RGB\")\n",
        "\n",
        "    # Build messages\n",
        "    messages = []\n",
        "    if system_prompt:\n",
        "        messages.append({\n",
        "            \"role\": \"system\",\n",
        "            \"content\": [{\"type\": \"text\", \"text\": system_prompt}]\n",
        "        })\n",
        "\n",
        "    messages.append({\n",
        "        \"role\": \"user\",\n",
        "        \"content\": [\n",
        "            {\"type\": \"image\", \"image\": raw_image},\n",
        "            {\"type\": \"text\", \"text\": prompt}\n",
        "        ]\n",
        "    })\n",
        "\n",
        "    # Tokenize\n",
        "    inputs = processor.apply_chat_template(\n",
        "        messages,\n",
        "        add_generation_prompt=True,\n",
        "        tokenize=True,\n",
        "        return_dict=True,\n",
        "        return_tensors=\"pt\"\n",
        "    ).to(model.device, dtype=torch.bfloat16)\n",
        "\n",
        "    # Generate\n",
        "    with torch.inference_mode():\n",
        "        generation = model.generate(**inputs, max_new_tokens=512, do_sample=False, temperature=0)\n",
        "\n",
        "    decoded = processor.batch_decode(generation, skip_special_tokens=True)[0].strip()\n",
        "\n",
        "    # Start only after \"Assistant:\" if present\n",
        "    if \"Assistant:\" in decoded:\n",
        "        decoded = decoded.split(\"Assistant:\", 1)[1].strip()\n",
        "\n",
        "    # Remove echoed prompt\n",
        "    if decoded.startswith(prompt.strip()):\n",
        "        decoded = decoded[len(prompt.strip()):].strip()\n",
        "\n",
        "    return decoded\n"
      ],
      "metadata": {
        "id": "PXP5HfxLEj7H"
      },
      "execution_count": 32,
      "outputs": []
    },
    {
      "cell_type": "markdown",
      "source": [
        "## 4️⃣ Package & Save to JSON"
      ],
      "metadata": {
        "id": "1JmXUoS8WBwk"
      }
    },
    {
      "cell_type": "code",
      "source": [
        "results = []\n",
        "\n",
        "for image_path in image_paths:\n",
        "    try:\n",
        "        output = infer_img(image_path, prompt)\n",
        "        print(f\"{image_path} → {output}\")\n",
        "\n",
        "        result = {\n",
        "            \"image_path\": image_path,\n",
        "            \"model\":      MODEL_NAME,\n",
        "            \"variant\":    VARIANT,\n",
        "            \"prompt\":     prompt,\n",
        "            \"output\":     output\n",
        "        }\n",
        "\n",
        "        results.append(result)\n",
        "\n",
        "    except Exception as e:\n",
        "        print(f\"❌ Error processing {image_path}: {e}\")\n",
        "\n",
        "# Save once, after all images are processed\n",
        "save_results(results, MODEL_NAME, VARIANT)\n"
      ],
      "metadata": {
        "colab": {
          "base_uri": "https://localhost:8080/"
        },
        "outputId": "b11fa303-f2f0-41cd-daa0-10e6867b6cad",
        "id": "AXw73T_OWBwk"
      },
      "execution_count": 33,
      "outputs": [
        {
          "output_type": "stream",
          "name": "stderr",
          "text": [
            "/usr/local/lib/python3.11/dist-packages/transformers/generation/configuration_utils.py:631: UserWarning: `do_sample` is set to `False`. However, `temperature` is set to `0` -- this flag is only used in sample-based generation modes. You should set `do_sample=True` or unset `temperature`.\n",
            "  warnings.warn(\n"
          ]
        },
        {
          "output_type": "stream",
          "name": "stdout",
          "text": [
            "/content/input/image1.png → Graffiti\n",
            "/content/input/image2.png → 'Graffiti'.\n",
            "✅ Saved results to results/HuggingFaceTB/SmolVLM2/256M-Video-Instruct_20250502_093342.json\n"
          ]
        }
      ]
    },
    {
      "cell_type": "code",
      "source": [
        "!sudo rm -rf ./results/*\n"
      ],
      "metadata": {
        "id": "og4M1QVNXgxK"
      },
      "execution_count": null,
      "outputs": []
    },
    {
      "cell_type": "markdown",
      "source": [
        "# Variant: SmolVLM2-2.2B-Instruct\n",
        "\n",
        "\n",
        "https://huggingface.co/HuggingFaceTB/SmolVLM2-2.2B-Instruct"
      ],
      "metadata": {
        "id": "EqIjgnE2XF0E"
      }
    },
    {
      "cell_type": "code",
      "source": [
        "from transformers import AutoProcessor, AutoModelForImageTextToText\n",
        "from PIL import Image\n",
        "import torch\n",
        "import os\n",
        "\n",
        "MODEL_NAME = \"HuggingFaceTB/SmolVLM2\"\n",
        "VARIANT    = \"2.2B-Instruct\"\n",
        "repo_id    = f\"{MODEL_NAME}-{VARIANT}\"\n",
        "\n",
        "processor = AutoProcessor.from_pretrained(repo_id)\n",
        "model     = AutoModelForImageTextToText.from_pretrained(\n",
        "    repo_id,\n",
        "    torch_dtype=torch.bfloat16\n",
        ").to(\"cuda\").eval()"
      ],
      "metadata": {
        "colab": {
          "base_uri": "https://localhost:8080/",
          "height": 81,
          "referenced_widgets": [
            "6153a941774a4105ab12853db42daf18",
            "b7f3587fd0724ec7967866b279672c98",
            "ffb3266771e9452e82d86ace327c4172",
            "0cfa81ae615c4a1c92a14d5d567dc3f3",
            "627101cb1bda4b7dbd35b608ff1eea60",
            "a5454d7d43464db8a151a06413fd4549",
            "f3920c8368724c07ab42479b9e121b1b",
            "005a57f10220401dac7b7750ee8faab4",
            "2548a23a763d467d894e4d6e44415f3a",
            "8d92974528f84d08ade3d48a643952b4",
            "e4d79c098d304850a474208e296d7669",
            "654450f0b1bc410d83717bc1660a3032",
            "416d23a8c7544b7c9a9e240b10f76f06",
            "60ba65349c6d48f0b89be9b3935a4977",
            "b361e2866c7842f4aeafe61b9f65ce0b",
            "456a0b5d522d4de3a90308b5c4b4c806",
            "594e62d0e14548c0a4e971630c37e00d",
            "f470fffc4f394c558637b769dde6d3e5",
            "63e697c3dbd4414f91ca4108048b6410",
            "a5cc4e21cb224175bae473f402b86618",
            "14ce1605d8b848679f9027ed40be720c",
            "e9ed98ba6a2c431aa8cf0fa6182fe95b"
          ]
        },
        "id": "-J22C-AVWB_o",
        "outputId": "9f779354-448b-4859-82b8-a7d249496d85"
      },
      "execution_count": 35,
      "outputs": [
        {
          "output_type": "display_data",
          "data": {
            "text/plain": [
              "Loading checkpoint shards:   0%|          | 0/2 [00:00<?, ?it/s]"
            ],
            "application/vnd.jupyter.widget-view+json": {
              "version_major": 2,
              "version_minor": 0,
              "model_id": "6153a941774a4105ab12853db42daf18"
            }
          },
          "metadata": {}
        },
        {
          "output_type": "display_data",
          "data": {
            "text/plain": [
              "generation_config.json:   0%|          | 0.00/136 [00:00<?, ?B/s]"
            ],
            "application/vnd.jupyter.widget-view+json": {
              "version_major": 2,
              "version_minor": 0,
              "model_id": "654450f0b1bc410d83717bc1660a3032"
            }
          },
          "metadata": {}
        }
      ]
    },
    {
      "cell_type": "markdown",
      "source": [],
      "metadata": {
        "id": "1UqsezsmX5S3"
      }
    },
    {
      "cell_type": "markdown",
      "source": [
        "## 3️⃣ Inference"
      ],
      "metadata": {
        "id": "VGjoPxMMX5mA"
      }
    },
    {
      "cell_type": "code",
      "source": [
        "def infer_img(image_path: str, prompt: str, system_prompt: str = \"\"):\n",
        "    if not os.path.exists(image_path):\n",
        "        raise FileNotFoundError(f\"Image not found: {image_path}\")\n",
        "\n",
        "    # Load image\n",
        "    raw_image = Image.open(image_path).convert(\"RGB\")\n",
        "\n",
        "    # Build messages\n",
        "    messages = []\n",
        "    if system_prompt:\n",
        "        messages.append({\n",
        "            \"role\": \"system\",\n",
        "            \"content\": [{\"type\": \"text\", \"text\": system_prompt}]\n",
        "        })\n",
        "\n",
        "    messages.append({\n",
        "        \"role\": \"user\",\n",
        "        \"content\": [\n",
        "            {\"type\": \"image\", \"image\": raw_image},\n",
        "            {\"type\": \"text\", \"text\": prompt}\n",
        "        ]\n",
        "    })\n",
        "\n",
        "    # Tokenize\n",
        "    inputs = processor.apply_chat_template(\n",
        "        messages,\n",
        "        add_generation_prompt=True,\n",
        "        tokenize=True,\n",
        "        return_dict=True,\n",
        "        return_tensors=\"pt\"\n",
        "    ).to(model.device, dtype=torch.bfloat16)\n",
        "\n",
        "    # Generate\n",
        "    with torch.inference_mode():\n",
        "        generation = model.generate(**inputs, max_new_tokens=512, do_sample=False, temperature=0)\n",
        "\n",
        "    decoded = processor.batch_decode(generation, skip_special_tokens=True)[0].strip()\n",
        "\n",
        "    # Start only after \"Assistant:\" if present\n",
        "    if \"Assistant:\" in decoded:\n",
        "        decoded = decoded.split(\"Assistant:\", 1)[1].strip()\n",
        "\n",
        "    # Remove echoed prompt\n",
        "    if decoded.startswith(prompt.strip()):\n",
        "        decoded = decoded[len(prompt.strip()):].strip()\n",
        "\n",
        "    return decoded\n"
      ],
      "metadata": {
        "id": "t9L0y2peXy0J"
      },
      "execution_count": null,
      "outputs": []
    },
    {
      "cell_type": "markdown",
      "source": [
        "## 4️⃣ Package & Save to JSON"
      ],
      "metadata": {
        "id": "83r3IjWyX-re"
      }
    },
    {
      "cell_type": "code",
      "source": [
        "results = []\n",
        "\n",
        "for image_path in image_paths:\n",
        "    try:\n",
        "        output = infer_img(image_path, prompt)\n",
        "        print(f\"{image_path} → {output}\")\n",
        "\n",
        "        result = {\n",
        "            \"image_path\": image_path,\n",
        "            \"model\":      MODEL_NAME,\n",
        "            \"variant\":    VARIANT,\n",
        "            \"prompt\":     prompt,\n",
        "            \"output\":     output\n",
        "        }\n",
        "\n",
        "        results.append(result)\n",
        "\n",
        "    except Exception as e:\n",
        "        print(f\"❌ Error processing {image_path}: {e}\")\n",
        "\n",
        "# Save once, after all images are processed\n",
        "save_results(results, MODEL_NAME, VARIANT)\n"
      ],
      "metadata": {
        "colab": {
          "base_uri": "https://localhost:8080/"
        },
        "outputId": "13f72cf2-5e07-4ec2-cb40-3e9403ed1a21",
        "id": "VqqguraaX-re"
      },
      "execution_count": 36,
      "outputs": [
        {
          "output_type": "stream",
          "name": "stdout",
          "text": [
            "/content/input/image1.png → 'Advertisement'.\n",
            "/content/input/image2.png → 'Advertisement'.\n",
            "✅ Saved results to results/HuggingFaceTB/SmolVLM2/2.2B-Instruct_20250502_094228.json\n"
          ]
        }
      ]
    },
    {
      "cell_type": "code",
      "source": [],
      "metadata": {
        "id": "dvBumww6X_xd"
      },
      "execution_count": null,
      "outputs": []
    }
  ]
}